{
 "metadata": {
  "name": "",
  "signature": "sha256:cf887e717869a0ce4643b9cb7abbf2208507a15301d41e7d2575f8c61c8625f2"
 },
 "nbformat": 3,
 "nbformat_minor": 0,
 "worksheets": [
  {
   "cells": [
    {
     "cell_type": "code",
     "collapsed": false,
     "input": [
      "import numpy as np\n",
      "import matplotlib.pyplot as plt\n",
      "%matplotlib inline"
     ],
     "language": "python",
     "metadata": {},
     "outputs": [],
     "prompt_number": 4
    },
    {
     "cell_type": "code",
     "collapsed": false,
     "input": [
      "def EulSMet(T,dt,x0,y0,P=0):\n",
      "    \n",
      "    '''return euler's method :/\n",
      "    (1) x(n+1)= x(n) + dt*y(n)/      \n",
      "    (2) y(n+1)=y(n)+dt*C2*(1-x(n)/C1) see code/\n",
      "    T (finalTime), dt (timestep), initial condition1 = x0 intial condition2 = y0, P==1 to plot default 0'''\n",
      "    \n",
      "    N = int(T/dt)+1  #number of step calculation\n",
      "    t = np.linspace(0.0, T, N) #timestep vector initialization\n",
      "    \n",
      "    # initial conditions\n",
      "    #x0 = 100. #100. #altitude\n",
      "    #y0  = 10  #10 #upward velocity resulting from gust\n",
      "    C1 = 100.  #constant 1\n",
      "    C2  = 9.81 #constant 2\n",
      "\n",
      "    u = np.array([x0, y0]) #store x(n) & y(n) in time \n",
      "    \n",
      "    # initialize arrays to hold the changing  values\n",
      "    x = np.zeros(N)\n",
      "    x[0] = x0\n",
      "    \n",
      "   # y = np.zeros(N)\n",
      "   # y[0] = y0\n",
      "    \n",
      "    # time-loop using Euler's method\n",
      "    for n in range(1,N):\n",
      "        u = u + dt*np.array([u[1], C2*(1-u[0]/C1)])\n",
      "        x[n] = u[0]\n",
      "\n",
      "# plotting \n",
      "\n",
      "    if P==1:    \n",
      "        plt.figure(1)\n",
      "        plt.subplot(211)\n",
      "        plt.plot(t, x)\n",
      "\n",
      "    #    plt.subplot(212)\n",
      "    #    plt.plot(t, y)\n",
      "    #    plt.show()       \n",
      "        \n",
      "    #return x,y\n",
      "\n",
      "    "
     ],
     "language": "python",
     "metadata": {},
     "outputs": [],
     "prompt_number": 11
    },
    {
     "cell_type": "code",
     "collapsed": false,
     "input": [
      "EulSMet(100,0.01,100,10,1)"
     ],
     "language": "python",
     "metadata": {},
     "outputs": [
      {
       "metadata": {},
       "output_type": "display_data",
       "png": "[encoded data removed]",
       "text": [
        "<matplotlib.figure.Figure at 0x7f1196538f90>"
       ]
      }
     ],
     "prompt_number": 24
    },
    {
     "cell_type": "code",
     "collapsed": false,
     "input": [],
     "language": "python",
     "metadata": {},
     "outputs": []
    }
   ],
   "metadata": {}
  }
 ]
}