{
 "metadata": {
  "name": "",
  "signature": "sha256:0801f149b6215ed814f5328488912d1ef703956a9970c277feb9e0b16c92fe93"
 },
 "nbformat": 3,
 "nbformat_minor": 0,
 "worksheets": [
  {
   "cells": [
    {
     "cell_type": "code",
     "collapsed": false,
     "input": [
      "# LIBRARY IMPORT\n",
      "from math import sin, cos, log, ceil, pi\n",
      "import numpy\n",
      "import matplotlib.pyplot as plt\n",
      "%matplotlib inline\n",
      "from matplotlib import rcParams\n",
      "rcParams['font.family'] = 'serif'\n",
      "rcParams['font.size'] = 16\n",
      "\n",
      "mp0 = 100.   #'initial fuel mass [kg]\"\n",
      "rate = 20.   #'decreasing constant burrning rate'\n",
      "ms = 50.     #'rocket shell weight [kg]\n",
      "g = 9.81     #'gravity [m/s^2]\n",
      "r = 0.5      #' rocket radius'\n",
      "ve = 325.     #'fume exhausted\n",
      "Cd= 0.15"
     ],
     "language": "python",
     "metadata": {},
     "outputs": [],
     "prompt_number": 11
    },
    {
     "cell_type": "code",
     "collapsed": false,
     "input": [
      "#TIME DISCRETIZATION\n",
      "\n",
      "dt = 0.1\n",
      "T = 10.\n",
      "N = int(T/dt) + 1 #number of steps\n",
      "t = numpy.linspace(0.0,T,N) #array of time grid"
     ],
     "language": "python",
     "metadata": {},
     "outputs": [],
     "prompt_number": 47
    },
    {
     "cell_type": "code",
     "collapsed": false,
     "input": [
      "def massCons(A,rate,dt,T):\n",
      "    '''calculate parameter reductionat constante rate\n",
      "        A = parameter to reduce\n",
      "        rate = rate of decreasing\n",
      "        dt timestep\n",
      "        T total time '''\n",
      "    \n",
      "    N = int(T/dt) + 1\n",
      "    A = numpy.zeros(N)\n",
      "   \n",
      "    A[0]=mp0\n",
      "    for i in range(0,N-1):\n",
      "        if A[i]<0:\n",
      "            A[i]=0\n",
      "        else:\n",
      "            A[i+1]=A[i]-rate*dt\n",
      "          \n",
      "    return A"
     ],
     "language": "python",
     "metadata": {},
     "outputs": [],
     "prompt_number": 48
    },
    {
     "cell_type": "code",
     "collapsed": false,
     "input": [
      "mp = massCons(mp0,rate,dt,T)\n",
      "print mp"
     ],
     "language": "python",
     "metadata": {},
     "outputs": [
      {
       "output_type": "stream",
       "stream": "stdout",
       "text": [
        "[ 100.   98.   96.   94.   92.   90.   88.   86.   84.   82.   80.   78.\n",
        "   76.   74.   72.   70.   68.   66.   64.   62.   60.   58.   56.   54.\n",
        "   52.   50.   48.   46.   44.   42.   40.   38.   36.   34.   32.   30.\n",
        "   28.   26.   24.   22.   20.   18.   16.   14.   12.   10.    8.    6.\n",
        "    4.    2.    0.    0.    0.    0.    0.    0.    0.    0.    0.    0.\n",
        "    0.    0.    0.    0.    0.    0.    0.    0.    0.    0.    0.    0.\n",
        "    0.    0.    0.    0.    0.    0.    0.    0.    0.    0.    0.    0.\n",
        "    0.    0.    0.    0.    0.    0.    0.    0.    0.    0.    0.    0.\n",
        "    0.    0.    0.    0.    0.]\n"
       ]
      }
     ],
     "prompt_number": 49
    },
    {
     "cell_type": "code",
     "collapsed": false,
     "input": [
      "#CALCULATION OF DERIVED PARAMETERS\n",
      "\n",
      "fArea = pi*r*r\n",
      "mTot = numpy.empty_like(t)\n",
      "gravity = numpy.empty_like(t)\n",
      "gas = numpy.zeros_like(mp)\n",
      "\n",
      "\n",
      "for i in range(0,N):\n",
      "    mTot[i]=ms+mp[i]\n",
      "    gravity[i] = mTot[i]*g\n",
      "    if mp[i]!=0:\n",
      "        gas[i] = rate*ve\n",
      "\n",
      "C1 = gas - gravity #sum of constant terms    \n",
      "    \n",
      "\n",
      "plt.plot(C1)\n",
      "\n",
      "\n"
     ],
     "language": "python",
     "metadata": {},
     "outputs": [
      {
       "metadata": {},
       "output_type": "pyout",
       "prompt_number": 51,
       "text": [
        "[<matplotlib.lines.Line2D at 0x7fa8172c5b50>]"
       ]
      },
      {
       "metadata": {},
       "output_type": "display_data",
       "png": "[encoded data removed]",
       "text": [
        "<matplotlib.figure.Figure at 0x7fa81804ef10>"
       ]
      }
     ],
     "prompt_number": 51
    },
    {
     "cell_type": "code",
     "collapsed": false,
     "input": [
      "def output(a,b,T):\n",
      "    '''return the proper value of an element at a specific time\n",
      "    T: time to look for output\n",
      "    a : array of time grid\n",
      "    b: array of the parameter to be returned'''\n",
      "    \n",
      "    for i, j in enumerate(a):\n",
      "        if j == T:\n",
      "            print b[i]\n",
      "            \n",
      "    return\n",
      "    \n",
      "    "
     ],
     "language": "python",
     "metadata": {},
     "outputs": [],
     "prompt_number": 5
    },
    {
     "cell_type": "code",
     "collapsed": false,
     "input": [
      "output(t,mp,3.2)"
     ],
     "language": "python",
     "metadata": {},
     "outputs": [
      {
       "output_type": "stream",
       "stream": "stdout",
       "text": [
        "36.0\n"
       ]
      }
     ],
     "prompt_number": 24
    },
    {
     "cell_type": "code",
     "collapsed": false,
     "input": [
      "plt.plot(mp)"
     ],
     "language": "python",
     "metadata": {},
     "outputs": [
      {
       "metadata": {},
       "output_type": "pyout",
       "prompt_number": 38,
       "text": [
        "[<matplotlib.lines.Line2D at 0x7fa8179e2250>]"
       ]
      },
      {
       "metadata": {},
       "output_type": "display_data",
       "png": "[encoded data removed]",
       "text": [
        "<matplotlib.figure.Figure at 0x7fa817e35310>"
       ]
      }
     ],
     "prompt_number": 38
    },
    {
     "cell_type": "code",
     "collapsed": false,
     "input": [],
     "language": "python",
     "metadata": {},
     "outputs": []
    }
   ],
   "metadata": {}
  }
 ]
}